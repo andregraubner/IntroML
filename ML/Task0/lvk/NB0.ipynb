{
 "cells": [
  {
   "cell_type": "code",
   "execution_count": 4,
   "metadata": {},
   "outputs": [
    {
     "name": "stdout",
     "output_type": "stream",
     "text": [
      "example.txt  Untitled.ipynb\r\n"
     ]
    }
   ],
   "source": [
    "!ls"
   ]
  },
  {
   "cell_type": "code",
   "execution_count": 12,
   "metadata": {},
   "outputs": [],
   "source": [
    "import pandas as pd\n"
   ]
  },
  {
   "cell_type": "code",
   "execution_count": 13,
   "metadata": {},
   "outputs": [],
   "source": [
    "df = pd.read_csv('../Data/train.csv')"
   ]
  },
  {
   "cell_type": "code",
   "execution_count": 15,
   "metadata": {},
   "outputs": [
    {
     "data": {
      "text/html": [
       "<div>\n",
       "<style scoped>\n",
       "    .dataframe tbody tr th:only-of-type {\n",
       "        vertical-align: middle;\n",
       "    }\n",
       "\n",
       "    .dataframe tbody tr th {\n",
       "        vertical-align: top;\n",
       "    }\n",
       "\n",
       "    .dataframe thead th {\n",
       "        text-align: right;\n",
       "    }\n",
       "</style>\n",
       "<table border=\"1\" class=\"dataframe\">\n",
       "  <thead>\n",
       "    <tr style=\"text-align: right;\">\n",
       "      <th></th>\n",
       "      <th>Id</th>\n",
       "      <th>y</th>\n",
       "      <th>x1</th>\n",
       "      <th>x2</th>\n",
       "      <th>x3</th>\n",
       "      <th>x4</th>\n",
       "      <th>x5</th>\n",
       "      <th>x6</th>\n",
       "      <th>x7</th>\n",
       "      <th>x8</th>\n",
       "      <th>x9</th>\n",
       "      <th>x10</th>\n",
       "    </tr>\n",
       "  </thead>\n",
       "  <tbody>\n",
       "    <tr>\n",
       "      <th>0</th>\n",
       "      <td>0</td>\n",
       "      <td>738.023171</td>\n",
       "      <td>1764.052346</td>\n",
       "      <td>400.157208</td>\n",
       "      <td>978.737984</td>\n",
       "      <td>2240.893199</td>\n",
       "      <td>1867.557990</td>\n",
       "      <td>-977.277880</td>\n",
       "      <td>950.088418</td>\n",
       "      <td>-151.357208</td>\n",
       "      <td>-103.218852</td>\n",
       "      <td>410.598502</td>\n",
       "    </tr>\n",
       "    <tr>\n",
       "      <th>1</th>\n",
       "      <td>1</td>\n",
       "      <td>400.646015</td>\n",
       "      <td>144.043571</td>\n",
       "      <td>1454.273507</td>\n",
       "      <td>761.037725</td>\n",
       "      <td>121.675016</td>\n",
       "      <td>443.863233</td>\n",
       "      <td>333.674327</td>\n",
       "      <td>1494.079073</td>\n",
       "      <td>-205.158264</td>\n",
       "      <td>313.067702</td>\n",
       "      <td>-854.095739</td>\n",
       "    </tr>\n",
       "    <tr>\n",
       "      <th>2</th>\n",
       "      <td>2</td>\n",
       "      <td>189.900156</td>\n",
       "      <td>-2552.989816</td>\n",
       "      <td>653.618595</td>\n",
       "      <td>864.436199</td>\n",
       "      <td>-742.165020</td>\n",
       "      <td>2269.754624</td>\n",
       "      <td>-1454.365675</td>\n",
       "      <td>45.758517</td>\n",
       "      <td>-187.183850</td>\n",
       "      <td>1532.779214</td>\n",
       "      <td>1469.358770</td>\n",
       "    </tr>\n",
       "    <tr>\n",
       "      <th>3</th>\n",
       "      <td>3</td>\n",
       "      <td>-78.399449</td>\n",
       "      <td>154.947426</td>\n",
       "      <td>378.162520</td>\n",
       "      <td>-887.785748</td>\n",
       "      <td>-1980.796468</td>\n",
       "      <td>-347.912149</td>\n",
       "      <td>156.348969</td>\n",
       "      <td>1230.290681</td>\n",
       "      <td>1202.379849</td>\n",
       "      <td>-387.326817</td>\n",
       "      <td>-302.302751</td>\n",
       "    </tr>\n",
       "    <tr>\n",
       "      <th>4</th>\n",
       "      <td>4</td>\n",
       "      <td>-547.373531</td>\n",
       "      <td>-1048.552965</td>\n",
       "      <td>-1420.017937</td>\n",
       "      <td>-1706.270191</td>\n",
       "      <td>1950.775395</td>\n",
       "      <td>-509.652182</td>\n",
       "      <td>-438.074302</td>\n",
       "      <td>-1252.795360</td>\n",
       "      <td>777.490356</td>\n",
       "      <td>-1613.897848</td>\n",
       "      <td>-212.740280</td>\n",
       "    </tr>\n",
       "  </tbody>\n",
       "</table>\n",
       "</div>"
      ],
      "text/plain": [
       "   Id           y           x1           x2           x3           x4  \\\n",
       "0   0  738.023171  1764.052346   400.157208   978.737984  2240.893199   \n",
       "1   1  400.646015   144.043571  1454.273507   761.037725   121.675016   \n",
       "2   2  189.900156 -2552.989816   653.618595   864.436199  -742.165020   \n",
       "3   3  -78.399449   154.947426   378.162520  -887.785748 -1980.796468   \n",
       "4   4 -547.373531 -1048.552965 -1420.017937 -1706.270191  1950.775395   \n",
       "\n",
       "            x5           x6           x7           x8           x9  \\\n",
       "0  1867.557990  -977.277880   950.088418  -151.357208  -103.218852   \n",
       "1   443.863233   333.674327  1494.079073  -205.158264   313.067702   \n",
       "2  2269.754624 -1454.365675    45.758517  -187.183850  1532.779214   \n",
       "3  -347.912149   156.348969  1230.290681  1202.379849  -387.326817   \n",
       "4  -509.652182  -438.074302 -1252.795360   777.490356 -1613.897848   \n",
       "\n",
       "           x10  \n",
       "0   410.598502  \n",
       "1  -854.095739  \n",
       "2  1469.358770  \n",
       "3  -302.302751  \n",
       "4  -212.740280  "
      ]
     },
     "execution_count": 15,
     "metadata": {},
     "output_type": "execute_result"
    }
   ],
   "source": [
    "df.head()"
   ]
  },
  {
   "cell_type": "code",
   "execution_count": 16,
   "metadata": {},
   "outputs": [],
   "source": [
    "df = df.drop('Id', axis=1)"
   ]
  },
  {
   "cell_type": "code",
   "execution_count": 17,
   "metadata": {},
   "outputs": [],
   "source": [
    "y = df['y']"
   ]
  },
  {
   "cell_type": "code",
   "execution_count": 18,
   "metadata": {},
   "outputs": [],
   "source": [
    "X = df.drop('y', axis=1)"
   ]
  },
  {
   "cell_type": "code",
   "execution_count": 19,
   "metadata": {},
   "outputs": [
    {
     "data": {
      "text/html": [
       "<div>\n",
       "<style scoped>\n",
       "    .dataframe tbody tr th:only-of-type {\n",
       "        vertical-align: middle;\n",
       "    }\n",
       "\n",
       "    .dataframe tbody tr th {\n",
       "        vertical-align: top;\n",
       "    }\n",
       "\n",
       "    .dataframe thead th {\n",
       "        text-align: right;\n",
       "    }\n",
       "</style>\n",
       "<table border=\"1\" class=\"dataframe\">\n",
       "  <thead>\n",
       "    <tr style=\"text-align: right;\">\n",
       "      <th></th>\n",
       "      <th>x1</th>\n",
       "      <th>x2</th>\n",
       "      <th>x3</th>\n",
       "      <th>x4</th>\n",
       "      <th>x5</th>\n",
       "      <th>x6</th>\n",
       "      <th>x7</th>\n",
       "      <th>x8</th>\n",
       "      <th>x9</th>\n",
       "      <th>x10</th>\n",
       "    </tr>\n",
       "  </thead>\n",
       "  <tbody>\n",
       "    <tr>\n",
       "      <th>0</th>\n",
       "      <td>1764.052346</td>\n",
       "      <td>400.157208</td>\n",
       "      <td>978.737984</td>\n",
       "      <td>2240.893199</td>\n",
       "      <td>1867.557990</td>\n",
       "      <td>-977.277880</td>\n",
       "      <td>950.088418</td>\n",
       "      <td>-151.357208</td>\n",
       "      <td>-103.218852</td>\n",
       "      <td>410.598502</td>\n",
       "    </tr>\n",
       "    <tr>\n",
       "      <th>1</th>\n",
       "      <td>144.043571</td>\n",
       "      <td>1454.273507</td>\n",
       "      <td>761.037725</td>\n",
       "      <td>121.675016</td>\n",
       "      <td>443.863233</td>\n",
       "      <td>333.674327</td>\n",
       "      <td>1494.079073</td>\n",
       "      <td>-205.158264</td>\n",
       "      <td>313.067702</td>\n",
       "      <td>-854.095739</td>\n",
       "    </tr>\n",
       "    <tr>\n",
       "      <th>2</th>\n",
       "      <td>-2552.989816</td>\n",
       "      <td>653.618595</td>\n",
       "      <td>864.436199</td>\n",
       "      <td>-742.165020</td>\n",
       "      <td>2269.754624</td>\n",
       "      <td>-1454.365675</td>\n",
       "      <td>45.758517</td>\n",
       "      <td>-187.183850</td>\n",
       "      <td>1532.779214</td>\n",
       "      <td>1469.358770</td>\n",
       "    </tr>\n",
       "    <tr>\n",
       "      <th>3</th>\n",
       "      <td>154.947426</td>\n",
       "      <td>378.162520</td>\n",
       "      <td>-887.785748</td>\n",
       "      <td>-1980.796468</td>\n",
       "      <td>-347.912149</td>\n",
       "      <td>156.348969</td>\n",
       "      <td>1230.290681</td>\n",
       "      <td>1202.379849</td>\n",
       "      <td>-387.326817</td>\n",
       "      <td>-302.302751</td>\n",
       "    </tr>\n",
       "    <tr>\n",
       "      <th>4</th>\n",
       "      <td>-1048.552965</td>\n",
       "      <td>-1420.017937</td>\n",
       "      <td>-1706.270191</td>\n",
       "      <td>1950.775395</td>\n",
       "      <td>-509.652182</td>\n",
       "      <td>-438.074302</td>\n",
       "      <td>-1252.795360</td>\n",
       "      <td>777.490356</td>\n",
       "      <td>-1613.897848</td>\n",
       "      <td>-212.740280</td>\n",
       "    </tr>\n",
       "  </tbody>\n",
       "</table>\n",
       "</div>"
      ],
      "text/plain": [
       "            x1           x2           x3           x4           x5  \\\n",
       "0  1764.052346   400.157208   978.737984  2240.893199  1867.557990   \n",
       "1   144.043571  1454.273507   761.037725   121.675016   443.863233   \n",
       "2 -2552.989816   653.618595   864.436199  -742.165020  2269.754624   \n",
       "3   154.947426   378.162520  -887.785748 -1980.796468  -347.912149   \n",
       "4 -1048.552965 -1420.017937 -1706.270191  1950.775395  -509.652182   \n",
       "\n",
       "            x6           x7           x8           x9          x10  \n",
       "0  -977.277880   950.088418  -151.357208  -103.218852   410.598502  \n",
       "1   333.674327  1494.079073  -205.158264   313.067702  -854.095739  \n",
       "2 -1454.365675    45.758517  -187.183850  1532.779214  1469.358770  \n",
       "3   156.348969  1230.290681  1202.379849  -387.326817  -302.302751  \n",
       "4  -438.074302 -1252.795360   777.490356 -1613.897848  -212.740280  "
      ]
     },
     "execution_count": 19,
     "metadata": {},
     "output_type": "execute_result"
    }
   ],
   "source": [
    "X.head()"
   ]
  },
  {
   "cell_type": "code",
   "execution_count": null,
   "metadata": {},
   "outputs": [],
   "source": []
  },
  {
   "cell_type": "code",
   "execution_count": 20,
   "metadata": {},
   "outputs": [],
   "source": [
    "from sklearn.linear_model import LinearRegression"
   ]
  },
  {
   "cell_type": "code",
   "execution_count": 23,
   "metadata": {},
   "outputs": [],
   "source": [
    "reg = LinearRegression().fit(X, y)"
   ]
  },
  {
   "cell_type": "code",
   "execution_count": null,
   "metadata": {},
   "outputs": [],
   "source": []
  }
 ],
 "metadata": {
  "kernelspec": {
   "display_name": "Python 3",
   "language": "python",
   "name": "python3"
  },
  "language_info": {
   "codemirror_mode": {
    "name": "ipython",
    "version": 3
   },
   "file_extension": ".py",
   "mimetype": "text/x-python",
   "name": "python",
   "nbconvert_exporter": "python",
   "pygments_lexer": "ipython3",
   "version": "3.6.6"
  }
 },
 "nbformat": 4,
 "nbformat_minor": 2
}
