{
 "cells": [
  {
   "cell_type": "code",
   "execution_count": 108,
   "metadata": {},
   "outputs": [],
   "source": [
    "# Import\n",
    "import pandas as pd\n",
    "%matplotlib inline\n",
    "import matplotlib.pyplot as plt\n",
    "import seaborn as sns\n",
    "import numpy as np\n",
    "\n",
    "from sklearn.preprocessing import FunctionTransformer\n",
    "from sklearn.linear_model import LinearRegression\n",
    "from sklearn.model_selection import cross_val_score\n",
    "from sklearn.linear_model import Ridge\n",
    "\n",
    "data = pd.read_csv('../data/train.csv')"
   ]
  },
  {
   "cell_type": "code",
   "execution_count": 109,
   "metadata": {},
   "outputs": [],
   "source": [
    "# Structure data\n",
    "data = data.drop(['Id'], axis=1)\n",
    "X_unprocessed = data.drop('y', axis=1)\n",
    "y = data['y']"
   ]
  },
  {
   "cell_type": "code",
   "execution_count": 110,
   "metadata": {},
   "outputs": [],
   "source": [
    "# Create feature vector\n",
    "def phi(x):\n",
    "    t = np.zeros(21)\n",
    "    t[0:5] = x\n",
    "    t[5:10] = x**2\n",
    "    t[10:15] = np.exp(x)\n",
    "    t[15:20] = np.cos(x)\n",
    "    t[20] = 1\n",
    "    return pd.Series(t)\n",
    "\n",
    "X = X_unprocessed.transform(phi, axis=1)"
   ]
  },
  {
   "cell_type": "code",
   "execution_count": 111,
   "metadata": {},
   "outputs": [
    {
     "name": "stdout",
     "output_type": "stream",
     "text": [
      "With model 0: 10.027260399471517\n",
      "With model 1: 10.026965002609447\n",
      "With model 2: 10.024656762082879\n",
      "With model 3: 10.01099497445087\n",
      "With model 4: 9.966578942249892\n",
      "With model 5: 9.994403791681837\n",
      "With model 6: 10.340272785242686\n"
     ]
    }
   ],
   "source": [
    "# Create linear model\n",
    "\n",
    "models = [LinearRegression(), \n",
    "          Ridge(alpha=0.1), \n",
    "          Ridge(alpha=1), \n",
    "          Ridge(alpha=10), \n",
    "          Ridge(alpha=100), \n",
    "          Ridge(alpha=1000),\n",
    "          Ridge(alpha=10000)]\n",
    "\n",
    "for i in range(0, len(models)):\n",
    "    score = cross_val_score(models[i], X, y, cv=5, scoring='neg_mean_squared_error')\n",
    "    RMSE = np.sqrt(-score)\n",
    "    av_RMSE = np.average(RMSE)\n",
    "    print('With model ' + str(i) + ': ' + str(av_RMSE))"
   ]
  },
  {
   "cell_type": "code",
   "execution_count": null,
   "metadata": {},
   "outputs": [],
   "source": []
  }
 ],
 "metadata": {
  "kernelspec": {
   "display_name": "Python 3",
   "language": "python",
   "name": "python3"
  },
  "language_info": {
   "codemirror_mode": {
    "name": "ipython",
    "version": 3
   },
   "file_extension": ".py",
   "mimetype": "text/x-python",
   "name": "python",
   "nbconvert_exporter": "python",
   "pygments_lexer": "ipython3",
   "version": "3.7.1"
  }
 },
 "nbformat": 4,
 "nbformat_minor": 2
}
