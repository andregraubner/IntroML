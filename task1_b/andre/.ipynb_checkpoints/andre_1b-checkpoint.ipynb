{
 "cells": [
  {
   "cell_type": "code",
   "execution_count": 210,
   "metadata": {},
   "outputs": [],
   "source": [
    "# Import\n",
    "import pandas as pd\n",
    "%matplotlib inline\n",
    "import matplotlib.pyplot as plt\n",
    "import seaborn as sns\n",
    "import numpy as np\n",
    "\n",
    "from sklearn.preprocessing import FunctionTransformer\n",
    "from sklearn.linear_model import LinearRegression, Ridge\n",
    "from sklearn.model_selection import cross_val_score, train_test_split\n",
    "from sklearn.metrics import mean_squared_error, make_scorer\n",
    "\n",
    "data = pd.read_csv('../data/train.csv')"
   ]
  },
  {
   "cell_type": "code",
   "execution_count": 211,
   "metadata": {},
   "outputs": [],
   "source": [
    "# Structure data\n",
    "data = data.drop(['Id'], axis=1)\n",
    "X_unprocessed = data.drop('y', axis=1)\n",
    "y = data['y']"
   ]
  },
  {
   "cell_type": "code",
   "execution_count": 212,
   "metadata": {},
   "outputs": [],
   "source": [
    "# Create feature vector\n",
    "def phi(x):\n",
    "    t = np.zeros(21)\n",
    "    t[0:5] = x\n",
    "    t[5:10] = x**2\n",
    "    t[10:15] = np.exp(x)\n",
    "    t[15:20] = np.cos(x)\n",
    "    t[20] = 1\n",
    "    return pd.Series(t)\n",
    "\n",
    "X = X_unprocessed.transform(phi, axis=1)"
   ]
  },
  {
   "cell_type": "code",
   "execution_count": 213,
   "metadata": {},
   "outputs": [
    {
     "name": "stdout",
     "output_type": "stream",
     "text": [
      "Model 0: 10.047246371190846\n",
      "Model 1: 10.04601105415592\n",
      "Model 2: 10.03684971576239\n",
      "Model 3: 10.000819158226658\n",
      "Model 4: 9.94220155178799\n",
      "Model 5: 9.95602155744648\n",
      "Model 6: 10.291752104908365\n",
      "Model 7: 9.926356713475752\n"
     ]
    }
   ],
   "source": [
    "# Create linear model\n",
    "\n",
    "models = [LinearRegression(), \n",
    "          Ridge(alpha=0.1), \n",
    "          Ridge(alpha=1), \n",
    "          Ridge(alpha=10), \n",
    "          Ridge(alpha=100), \n",
    "          Ridge(alpha=1000),\n",
    "          Ridge(alpha=10000),\n",
    "          Ridge(alpha=300),]\n",
    "\n",
    "for i in range(0, len(models)):\n",
    "    score = cross_val_score(models[i], X, y, cv=10, scoring=make_scorer(mean_squared_error))\n",
    "    RMSE = np.sqrt(score)\n",
    "    av_RMSE = np.average(RMSE)\n",
    "    print('Model ' + str(i) + ': '+ str(av_RMSE))"
   ]
  },
  {
   "cell_type": "code",
   "execution_count": 219,
   "metadata": {},
   "outputs": [
    {
     "name": "stdout",
     "output_type": "stream",
     "text": [
      "347\n"
     ]
    },
    {
     "data": {
      "image/png": "[encoded data removed]",
      "text/plain": [
       "<Figure size 432x288 with 1 Axes>"
      ]
     },
     "metadata": {
      "needs_background": "light"
     },
     "output_type": "display_data"
    }
   ],
   "source": [
    "# Explore alphas for ridge regression\n",
    "\n",
    "RMSEs = np.zeros(1000)\n",
    "\n",
    "for i in range(0, 1000):\n",
    "    score = cross_val_score(Ridge(alpha=i), X, y, cv=2, scoring=make_scorer(mean_squared_error))\n",
    "    RMSE = np.sqrt(score)\n",
    "    av_RMSE = np.average(RMSE)\n",
    "    RMSEs[i] = av_RMSE\n",
    "    \n",
    "plt.plot(range(0,1000), RMSEs, color='red')\n",
    "print(np.argmin(RMSEs))"
   ]
  },
  {
   "cell_type": "code",
   "execution_count": 220,
   "metadata": {
    "scrolled": false
   },
   "outputs": [
    {
     "name": "stdout",
     "output_type": "stream",
     "text": [
      "Error: 9.97043519765813\n",
      "0     0.931450\n",
      "1    -0.462232\n",
      "2    -0.025640\n",
      "3     0.344401\n",
      "4    -0.047097\n",
      "5    -0.959881\n",
      "6     0.134283\n",
      "7    -0.410817\n",
      "8    -0.376230\n",
      "9     0.529825\n",
      "10    0.801518\n",
      "11   -0.437608\n",
      "12   -0.991721\n",
      "13    0.032649\n",
      "14   -0.059239\n",
      "15    0.062928\n",
      "16   -0.330282\n",
      "17   -0.166773\n",
      "18   -0.364841\n",
      "19   -0.326477\n",
      "20   -0.373988\n",
      "dtype: float64\n"
     ]
    }
   ],
   "source": [
    "# Get weights\n",
    "#X_train, X_test, y_train, y_test = train_test_split(X, y, test_size=0.2)\n",
    "\n",
    "model = Ridge(alpha=347, fit_intercept=False)\n",
    "model.fit(X, y)\n",
    "y_pred = model.predict(X_test)\n",
    "\n",
    "RMSE = mean_squared_error(y_test, y_pred)**0.5\n",
    "print('Error: ' + str(RMSE))\n",
    "coef = pd.Series(model.coef_)\n",
    "print(coef)\n",
    "coef.to_csv('weights.csv', index=False)"
   ]
  },
  {
   "cell_type": "code",
   "execution_count": null,
   "metadata": {},
   "outputs": [],
   "source": []
  }
 ],
 "metadata": {
  "kernelspec": {
   "display_name": "Python 3",
   "language": "python",
   "name": "python3"
  },
  "language_info": {
   "codemirror_mode": {
    "name": "ipython",
    "version": 3
   },
   "file_extension": ".py",
   "mimetype": "text/x-python",
   "name": "python",
   "nbconvert_exporter": "python",
   "pygments_lexer": "ipython3",
   "version": "3.7.1"
  }
 },
 "nbformat": 4,
 "nbformat_minor": 2
}
